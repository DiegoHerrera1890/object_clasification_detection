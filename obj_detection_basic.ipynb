{
 "cells": [
  {
   "cell_type": "code",
   "execution_count": 1,
   "metadata": {},
   "outputs": [
    {
     "name": "stderr",
     "output_type": "stream",
     "text": [
      "/home/diego/anaconda3/envs/PyTorch_GPU/lib/python3.7/site-packages/tqdm/auto.py:21: TqdmWarning: IProgress not found. Please update jupyter and ipywidgets. See https://ipywidgets.readthedocs.io/en/stable/user_install.html\n",
      "  from .autonotebook import tqdm as notebook_tqdm\n",
      "/home/diego/anaconda3/envs/PyTorch_GPU/lib/python3.7/site-packages/skimage/io/manage_plugins.py:23: UserWarning: Your installed pillow version is < 8.1.2. Several security issues (CVE-2021-27921, CVE-2021-25290, CVE-2021-25291, CVE-2021-25293, and more) have been fixed in pillow 8.1.2 or higher. We recommend to upgrade this library.\n",
      "  from .collection import imread_collection_wrapper\n"
     ]
    }
   ],
   "source": [
    "from torch_snippets import *\n",
    "import selectivesearch\n",
    "from skimage.segmentation import felzenszwalb"
   ]
  },
  {
   "cell_type": "code",
   "execution_count": 2,
   "metadata": {},
   "outputs": [],
   "source": [
    "# !wget https://www.dropbox.com/s/l98leemr7r5stnm/Hemanvi.jpeg\n",
    "img = read('Hemanvi.jpeg')"
   ]
  },
  {
   "cell_type": "code",
   "execution_count": 3,
   "metadata": {},
   "outputs": [],
   "source": [
    "# segment_fz = felzenszwalb(img, scale=200)"
   ]
  },
  {
   "cell_type": "code",
   "execution_count": 4,
   "metadata": {},
   "outputs": [],
   "source": [
    "# subplots([img, segment_fz], titles = ['Original Image', 'Image post \\n felzenswalb segmentation'], sz=10, nc=2)"
   ]
  },
  {
   "cell_type": "code",
   "execution_count": 5,
   "metadata": {},
   "outputs": [],
   "source": [
    "def extract_candidates(img):\n",
    "    img_lbl, regions = selectivesearch.selective_search(img, scale=200, min_size=100)\n",
    "    img_area = np.prod(img.shape[:2])\n",
    "    candidates = []\n",
    "    for r in regions:\n",
    "        if r['rect'] in candidates: continue\n",
    "        if r['size'] < (0.05*img_area): continue\n",
    "        if r['size'] > (1*img_area): continue\n",
    "        x, y, w, h = r['rect']\n",
    "        candidates.append(list(r['rect']))\n",
    "    return candidates"
   ]
  },
  {
   "cell_type": "code",
   "execution_count": 6,
   "metadata": {},
   "outputs": [],
   "source": [
    "# img = read('Hemanvi.jpeg', 1)\n",
    "# candidates = extract_candidates(img)\n",
    "# show(img, bbs=candidates)"
   ]
  },
  {
   "cell_type": "code",
   "execution_count": 7,
   "metadata": {},
   "outputs": [],
   "source": [
    "def get_iou(boxA, boxB, epsilon=1e-5):\n",
    "    x1 = max(boxA[0], boxB[0])\n",
    "    y1 = max(boxA[1], boxB[1])\n",
    "    x2 = min(boxA[2], boxB[2])\n",
    "    y2 = min(boxA[3], boxB[3])\n",
    "    width = (x2 - x1)\n",
    "    height = (y2 -y1)\n",
    "    if width<0 or height<0:\n",
    "        return 0.0\n",
    "    area_overlap = width*height\n",
    "    area_a = (boxA[2]-boxA[0])*(boxA[3]-boxA[1])\n",
    "    area_b = (boxB[2]-boxB[0])*(boxB[3]-boxB[1])\n",
    "    area_combined =  area_a + area_b - area_overlap\n",
    "    iou = area_overlap / (area_combined + epsilon)\n",
    "    return iou"
   ]
  },
  {
   "cell_type": "code",
   "execution_count": null,
   "metadata": {},
   "outputs": [],
   "source": [
    "\n"
   ]
  }
 ],
 "metadata": {
  "kernelspec": {
   "display_name": "PyTorch_GPU",
   "language": "python",
   "name": "python3"
  },
  "language_info": {
   "codemirror_mode": {
    "name": "ipython",
    "version": 3
   },
   "file_extension": ".py",
   "mimetype": "text/x-python",
   "name": "python",
   "nbconvert_exporter": "python",
   "pygments_lexer": "ipython3",
   "version": "3.7.16"
  }
 },
 "nbformat": 4,
 "nbformat_minor": 2
}
